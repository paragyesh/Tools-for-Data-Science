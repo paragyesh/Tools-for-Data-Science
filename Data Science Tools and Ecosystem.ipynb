{
 "cells": [
  {
   "cell_type": "markdown",
   "id": "f7750ede",
   "metadata": {},
   "source": [
    "# Data Scinece Tools and Ecosystem"
   ]
  },
  {
   "cell_type": "markdown",
   "id": "0710fd20",
   "metadata": {},
   "source": [
    "In this Notebook all the data science tools and Ecosystem are summarized in detailed manner"
   ]
  },
  {
   "cell_type": "markdown",
   "id": "6e118252",
   "metadata": {},
   "source": [
    "**Objectives**\n",
    " - to use the markdown cell\n",
    " - to use the code cell\n",
    " - to do the arithmetic calculation\n",
    " - to use the comment \n",
    " - to use the table \n",
    " - to use the heading stules and formats"
   ]
  },
  {
   "cell_type": "markdown",
   "id": "29c30785",
   "metadata": {},
   "source": [
    "## Author\n",
    "Parag Y"
   ]
  },
  {
   "cell_type": "markdown",
   "id": "d98031dc",
   "metadata": {},
   "source": [
    "Some of the Popular Languages that Data Scientist use are:\n",
    "1. Python\n",
    "2. R\n",
    "3. SQL\n",
    "4. Julia\n",
    "5. Scala"
   ]
  },
  {
   "cell_type": "markdown",
   "id": "c910e9d7",
   "metadata": {},
   "source": [
    "Some of the commonly used liabraries by Data Scientist includes:\n",
    "1. Pandas\n",
    "2. Numpy\n",
    "3. Scikitlearn\n",
    "4. Matplotlib\n",
    "5. Tensorflow\n",
    "6. Seaborn\n",
    "7. Apache Spark"
   ]
  },
  {
   "cell_type": "markdown",
   "id": "9f80da18",
   "metadata": {},
   "source": [
    "|Data Science Tools|\n",
    "--------------------\n",
    "|Jupyter Notebook|\n",
    "|Jupyter Lab|\n",
    "|Apache Zeplin|\n",
    "|R-Studio|\n",
    "|Spyder|\n",
    "|Apache Spark|\n",
    "|Apache Flink|\n",
    "|Ray|"
   ]
  },
  {
   "cell_type": "markdown",
   "id": "5d0822c1",
   "metadata": {},
   "source": [
    "### Below are a few examples of evaluating arithemetic expressions in Python"
   ]
  },
  {
   "cell_type": "code",
   "execution_count": 2,
   "id": "8f374b4a",
   "metadata": {},
   "outputs": [
    {
     "data": {
      "text/plain": [
       "17"
      ]
     },
     "execution_count": 2,
     "metadata": {},
     "output_type": "execute_result"
    }
   ],
   "source": [
    "# This is simple arithmetic expression to multiply and then add integer\n",
    "(3*4)+5"
   ]
  },
  {
   "cell_type": "code",
   "execution_count": 3,
   "id": "0dc5dee5",
   "metadata": {},
   "outputs": [
    {
     "data": {
      "text/plain": [
       "3.3333333333333335"
      ]
     },
     "execution_count": 3,
     "metadata": {},
     "output_type": "execute_result"
    }
   ],
   "source": [
    "# This will convert  200 minutes to hours by dividing  by 60\n",
    "200/60"
   ]
  },
  {
   "cell_type": "code",
   "execution_count": null,
   "id": "cfb017e0",
   "metadata": {},
   "outputs": [],
   "source": []
  }
 ],
 "metadata": {
  "kernelspec": {
   "display_name": "Python 3 (ipykernel)",
   "language": "python",
   "name": "python3"
  },
  "language_info": {
   "codemirror_mode": {
    "name": "ipython",
    "version": 3
   },
   "file_extension": ".py",
   "mimetype": "text/x-python",
   "name": "python",
   "nbconvert_exporter": "python",
   "pygments_lexer": "ipython3",
   "version": "3.11.4"
  }
 },
 "nbformat": 4,
 "nbformat_minor": 5
}
